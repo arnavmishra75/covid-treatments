{
 "cells": [
  {
   "cell_type": "code",
   "execution_count": null,
   "metadata": {},
   "outputs": [],
   "source": [
    "import numpy as np\n",
    "import pandas as pd\n",
    "import glob\n",
    "import json\n",
    "\n",
    "import matplotlib.pyplot as plt\n",
    "plt.style.use('ggplot')"
   ]
  },
  {
   "cell_type": "markdown",
   "metadata": {},
   "source": [
    "What has been published about medical care?\n",
    "\n",
    "1) Resources to support skilled nursing facilities and long term care facilities.\n",
    "\n",
    "2) Mobilization of surge medical staff to address shortages in overwhelmed communities\n",
    "\n",
    "https://www.kaggle.com/allen-institute-for-ai/CORD-19-research-challenge\n",
    "\n",
    "https://www.kaggle.com/allen-institute-for-ai/CORD-19-research-challenge/tasks\n",
    "\n",
    "https://www.kaggle.com/allen-institute-for-ai/CORD-19-research-challenge/tasks?taskId=572"
   ]
  },
  {
   "cell_type": "code",
   "execution_count": null,
   "metadata": {
    "scrolled": true
   },
   "outputs": [],
   "source": [
    "metadata_path = 'all_sources_metadata_2020-03-13.csv'\n",
    "meta_df = pd.read_csv(metadata_path, dtype={\n",
    "    'pubmed_id': str,\n",
    "    'Microsoft Academic Paper ID': str, \n",
    "    'doi': str\n",
    "})\n",
    "meta_df.head()\n",
    "meta_df = pd.read_csv(metadata_path, dtype={\n",
    "    'pubmed_id': str,\n",
    "    'Microsoft Academic Paper ID': str, \n",
    "    'doi': str\n",
    "})\n",
    "meta_df.head()"
   ]
  },
  {
   "cell_type": "code",
   "execution_count": null,
   "metadata": {},
   "outputs": [],
   "source": [
    "meta_df[\"title\"].str.contains('genetic', case=False).all()"
   ]
  },
  {
   "cell_type": "code",
   "execution_count": null,
   "metadata": {},
   "outputs": [],
   "source": [
    "pd.read_json(\"json_schema.txt\")"
   ]
  },
  {
   "cell_type": "code",
   "execution_count": null,
   "metadata": {
    "scrolled": true
   },
   "outputs": [],
   "source": [
    "import findspark\n",
    "findspark.init()\n",
    "print(\"printed\")"
   ]
  },
  {
   "cell_type": "code",
   "execution_count": null,
   "metadata": {},
   "outputs": [],
   "source": [
    "data = spark.read.json(all_json, multiLine=True)\n",
    "\n",
    "covid_sql = spark.sql(\n",
    "        \"\"\"\n",
    "        SELECT\n",
    "            metadata.title AS title,\n",
    "            abstract.text AS abstract, \n",
    "            body_text.text AS body_text,\n",
    "            back_matter.text AS back_matter,\n",
    "            paper_id\n",
    "        FROM data\n",
    "        \"\"\")"
   ]
  }
 ],
 "metadata": {
  "kernelspec": {
   "display_name": "Python 3",
   "language": "python",
   "name": "python3"
  },
  "language_info": {
   "codemirror_mode": {
    "name": "ipython",
    "version": 3
   },
   "file_extension": ".py",
   "mimetype": "text/x-python",
   "name": "python",
   "nbconvert_exporter": "python",
   "pygments_lexer": "ipython3",
   "version": "3.7.6"
  }
 },
 "nbformat": 4,
 "nbformat_minor": 4
}
